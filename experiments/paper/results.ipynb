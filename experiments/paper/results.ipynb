{
 "cells": [
  {
   "cell_type": "code",
   "execution_count": 1,
   "metadata": {},
   "outputs": [],
   "source": [
    "import matplotlib.pyplot as plt\n",
    "import io\n",
    "from PIL import Image, ImageChops\n",
    "\n",
    "white = (255, 255, 255, 255)\n",
    "\n",
    "def latex_to_img(tex):\n",
    "    buf = io.BytesIO()\n",
    "    plt.rc('text', usetex=True)\n",
    "    plt.rc('font', family='serif')\n",
    "    plt.axis('off')\n",
    "    plt.text(0.05, 0.5, f'${tex}$', size=40)\n",
    "    plt.savefig(buf, format='png')\n",
    "    plt.close()\n",
    "\n",
    "    im = Image.open(buf)\n",
    "    bg = Image.new(im.mode, im.size, white)\n",
    "    diff = ImageChops.difference(im, bg)\n",
    "    diff = ImageChops.add(diff, diff, 2.0, -100)\n",
    "    bbox = diff.getbbox()\n",
    "    return im.crop(bbox)"
   ]
  },
  {
   "cell_type": "code",
   "execution_count": 2,
   "metadata": {},
   "outputs": [],
   "source": [
    "from scipy.stats import wilcoxon\n",
    "import pandas as pd\n",
    "\n",
    "pd.set_option('display.max_rows', 500)\n",
    "pd.set_option('display.max_columns', 500)\n",
    "pd.set_option('display.width', 1000)\n",
    "pd.options.display.float_format = '{:.5f}'.format\n",
    "\n",
    "def wilcoxon_test(results_best,results_compare):\n",
    "    pvalue = wilcoxon(x=results_best,y=results_compare).pvalue\n",
    "    if pvalue<=0.001:\n",
    "        return {}\n",
    "    elif pvalue>0.001 and pvalue<0.05:\n",
    "        return {'dag':'--rwrap'}\n",
    "    else:\n",
    "        return {'ddag':'--rwrap'}"
   ]
  },
  {
   "cell_type": "code",
   "execution_count": 3,
   "metadata": {},
   "outputs": [
    {
     "name": "stderr",
     "output_type": "stream",
     "text": [
      "<>:42: SyntaxWarning: invalid escape sequence '\\p'\n",
      "<>:42: SyntaxWarning: invalid escape sequence '\\p'\n",
      "/tmp/ipykernel_3140635/1444188220.py:42: SyntaxWarning: invalid escape sequence '\\p'\n",
      "  return \"{:.4f}\".format(x)+' $\\pm$ ' +\"{:.3f}\".format(std)\n"
     ]
    }
   ],
   "source": [
    "import pandas as pd\n",
    "import os\n",
    "from functools import partial\n",
    "\n",
    "export_dir = '/media/nas/pgonzalez/histnetq'\n",
    "\n",
    "path = \"results\"\n",
    "\n",
    "def show_results_table(experiment_names,base_path='', include_std=False, row_names=None,error_measures=['AE','RAE']):\n",
    "    table = pd.DataFrame(columns=error_measures,dtype='float')\n",
    "    results_error = {}\n",
    "    for error_measure in error_measures:\n",
    "        results_error[error_measure] = dict()\n",
    "\n",
    "\n",
    "    for experiment in experiment_names:\n",
    "        results = pd.read_csv(os.path.join(base_path,path,experiment+'_errors.txt'))\n",
    "        for error_measure in error_measures:\n",
    "            results_error[error_measure][experiment] =results[error_measure]\n",
    "            table.loc[experiment,error_measure] = results[error_measure].mean()\n",
    "\n",
    "    #table = table.style.highlight_min(color = 'yellow', axis = 0)\n",
    "\n",
    "    #get best method for ae and best method for rae\n",
    "    best_method = {}\n",
    "    for error_measure in error_measures:\n",
    "        best_method[error_measure] = table.index[table[error_measure].argmin()]\n",
    "\n",
    "    table_style = table.style\n",
    "\n",
    "    #make wixcolom testing MAE\n",
    "    for experiment in experiment_names:\n",
    "        for error_measure in error_measures:\n",
    "            if experiment!=best_method[error_measure]:\n",
    "                table_style.set_properties(subset=(experiment,error_measure),**wilcoxon_test(results_error[error_measure][experiment],results_error[error_measure][best_method[error_measure]]))\n",
    "        \n",
    "    for error_measure in error_measures:    \n",
    "        table_style = table_style.highlight_min(axis=0,props='textbf:--rwrap;',subset=error_measure)\n",
    "    #table = table.style.highlight_min(color = 'yellow', axis = 0)\n",
    "\n",
    "    def add_deviation(x,std):\n",
    "        return \"{:.4f}\".format(x)+' $\\pm$ ' +\"{:.3f}\".format(std)\n",
    "\n",
    "    use_f = lambda x: partial(add_deviation, std=x)\n",
    "    formatters = [add_deviation]\n",
    "\n",
    "    if include_std:\n",
    "        for experiment_name in experiment_names:\n",
    "            for error_measure in error_measures:\n",
    "                std_value = results_error[error_measure][experiment_name].std()\n",
    "                table_style = table_style.format(formatter=use_f(std_value),subset=(experiment_name,error_measure))\n",
    "            \n",
    "\n",
    "    latex_code = table_style.to_latex(hrules=True,column_format=\"r|\"+\"r\"*len(table.columns))\n",
    "    if row_names is not None:\n",
    "        for experiment_name,row_name in zip(experiment_names,row_names):\n",
    "            latex_code = latex_code.replace(experiment_name,row_name)\n",
    "\n",
    "    return latex_code.replace(\"_\",\"\\\\_\"), results_error"
   ]
  },
  {
   "cell_type": "markdown",
   "metadata": {},
   "source": [
    "## Results T1A"
   ]
  },
  {
   "cell_type": "code",
   "execution_count": 4,
   "metadata": {},
   "outputs": [
    {
     "name": "stdout",
     "output_type": "stream",
     "text": [
      "\\begin{tabular}{r|rr}\n",
      "\\toprule\n",
      " & AE & RAE \\\\\n",
      "\\midrule\n",
      "CC & 0.0916 $\\pm$ 0.055 & 1.0840 $\\pm$ 4.311 \\\\\n",
      "PCC & 0.1166 $\\pm$ 0.070 & 1.3940 $\\pm$ 5.621 \\\\\n",
      "ACC & 0.0372 $\\pm$ 0.029 & 0.1702 $\\pm$ 0.508 \\\\\n",
      "PACC & 0.0298 $\\pm$ 0.023 & 0.1522 $\\pm$ 0.464 \\\\\n",
      "HDy & 0.0281 $\\pm$ 0.022 & 0.1451 $\\pm$ 0.456 \\\\\n",
      "QuaNet & 0.0342 $\\pm$ 0.025 & 0.3176 $\\pm$ 1.352 \\\\\n",
      "EMQ-BCTS & 0.0269 $\\pm$ 0.021 & 0.1183 $\\pm$ 0.251 \\\\\n",
      "EMQ-NoCal & 0.0236 $\\pm$ 0.018 & 0.1088 $\\pm$ 0.267 \\\\\n",
      "Deepsets (avg) & 0.0278 $\\pm$ 0.021 & 0.1269 $\\pm$ 0.228 \\\\\n",
      "Deepsets (max) & 0.0499 $\\pm$ 0.042 & 0.2183 $\\pm$ 0.488 \\\\\n",
      "Deepsets (median) & 0.0292 $\\pm$ 0.023 & 0.1389 $\\pm$ 0.256 \\\\\n",
      "SetTransformers & \\ddag{0.0225 $\\pm$ 0.017} & \\ddag{0.1096 $\\pm$ 0.262} \\\\\n",
      "HistNetQ & \\textbf{0.0224 $\\pm$ 0.017} & \\textbf{0.1071 $\\pm$ 0.233} \\\\\n",
      "\\bottomrule\n",
      "\\end{tabular}\n",
      "\n"
     ]
    }
   ],
   "source": [
    "experiment_names = [\"CC_T1A\",\"PCC_T1A\",\"ACC_T1A\",\"PACC_T1A\",\"HDy_T1A\",\"QuaNet_T1A\",\"EMQ_BCTS_T1A\",\"EMQ_NoCal_T1A\",\"deepsets_avg_T1A\",\"deepsets_max_T1A\",\"deepsets_median_T1A\",\"settransformers_T1A\",\"histnet_hard_T1A\"]\n",
    "row_names = [\"CC\",\"PCC\",\"ACC\",\"PACC\",\"HDy\",\"QuaNet\",\"EMQ-BCTS\",\"EMQ-NoCal\",\"Deepsets (avg)\",\"Deepsets (max)\",\"Deepsets (median)\",\"SetTransformers\",\"HistNetQ\"]\n",
    "t1a_table,_ = show_results_table(experiment_names=experiment_names, base_path='', include_std=True,error_measures=['AE','RAE'], row_names=row_names)\n",
    "print(t1a_table)\n",
    "with open(os.path.join(export_dir,'tables/t1a_table.tex'),'w') as f:\n",
    "    f.write(t1a_table)\n"
   ]
  },
  {
   "cell_type": "markdown",
   "metadata": {},
   "source": [
    "## Results T1B"
   ]
  },
  {
   "cell_type": "code",
   "execution_count": 5,
   "metadata": {},
   "outputs": [
    {
     "name": "stdout",
     "output_type": "stream",
     "text": [
      "\\begin{tabular}{r|rr}\n",
      "\\toprule\n",
      " & AE & RAE \\\\\n",
      "\\midrule\n",
      "Deepsets (avg) & 0.0128 $\\pm$ 0.004 & 0.9954 $\\pm$ 0.658 \\\\\n",
      "Deepsets (max) & 0.0277 $\\pm$ 0.005 & 1.4646 $\\pm$ 1.026 \\\\\n",
      "Deepsets (median) & 0.0143 $\\pm$ 0.004 & 0.8443 $\\pm$ 0.543 \\\\\n",
      "SetTransformers & 0.0385 $\\pm$ 0.008 & 1.6748 $\\pm$ 1.428 \\\\\n",
      "HistNetQ & \\textbf{0.0107 $\\pm$ 0.004} & \\textbf{0.7574 $\\pm$ 0.489} \\\\\n",
      "CC & 0.0141 $\\pm$ 0.003 & 1.8936 $\\pm$ 1.187 \\\\\n",
      "PCC & 0.0171 $\\pm$ 0.003 & 2.2646 $\\pm$ 1.416 \\\\\n",
      "ACC & 0.0184 $\\pm$ 0.004 & 1.4213 $\\pm$ 1.270 \\\\\n",
      "PACC & 0.0158 $\\pm$ 0.004 & 1.3054 $\\pm$ 0.988 \\\\\n",
      "EMQ-BCTS & 0.0117 $\\pm$ 0.003 & 0.9372 $\\pm$ 0.817 \\\\\n",
      "EMQ-NoCal & 0.0118 $\\pm$ 0.003 & 0.8780 $\\pm$ 0.751 \\\\\n",
      "\\bottomrule\n",
      "\\end{tabular}\n",
      "\n"
     ]
    }
   ],
   "source": [
    "experiment_names = [\"deepsets_avg_T1B\",\"deepsets_max_T1B\",\"deepsets_median_T1B\",\"settransformers_T1B\",\"histnet_hard_T1B_64bins\",\"CC_T1B\",\"PCC_T1B\",\"ACC_T1B\",\"PACC_T1B\",\"EMQ_BCTS_T1B\",\"EMQ_NoCal_T1B\"]\n",
    "row_names = [\"Deepsets (avg)\",\"Deepsets (max)\",\"Deepsets (median)\",\"SetTransformers\",\"HistNetQ\",\"CC\",\"PCC\",\"ACC\",\"PACC\",\"EMQ-BCTS\",\"EMQ-NoCal\"]\n",
    "t1b_table,_=show_results_table(experiment_names,include_std=True,row_names=row_names)\n",
    "print(t1b_table)\n",
    "with open(os.path.join(export_dir,'tables/t1b_table.tex'),'w') as f:\n",
    "    f.write(t1b_table)"
   ]
  },
  {
   "cell_type": "markdown",
   "metadata": {},
   "source": [
    "## Results T1"
   ]
  },
  {
   "cell_type": "code",
   "execution_count": 6,
   "metadata": {},
   "outputs": [
    {
     "name": "stdout",
     "output_type": "stream",
     "text": [
      "\\begin{tabular}{r|rr}\n",
      "\\toprule\n",
      " & AE & RAE \\\\\n",
      "\\midrule\n",
      "CC & 0.0796 $\\pm$ 0.048 & 0.9774 $\\pm$ 3.919 \\\\\n",
      "PCC & 0.1017 $\\pm$ 0.060 & 1.2656 $\\pm$ 5.113 \\\\\n",
      "ACC & 0.0264 $\\pm$ 0.020 & 0.1644 $\\pm$ 0.603 \\\\\n",
      "PACC & 0.0240 $\\pm$ 0.018 & 0.1339 $\\pm$ 0.463 \\\\\n",
      "HDy & 0.0221 $\\pm$ 0.017 & \\textbf{0.1067 $\\pm$ 0.290} \\\\\n",
      "Quanet & 0.0243 $\\pm$ 0.018 & 0.2640 $\\pm$ 1.284 \\\\\n",
      "EMQ-BCTS & 0.0221 $\\pm$ 0.017 & \\ddag{0.1097 $\\pm$ 0.324} \\\\\n",
      "EMQ-NoCal & 0.0211 $\\pm$ 0.017 & 0.1110 $\\pm$ 0.367 \\\\\n",
      "Deepsets (avg) & 0.0208 $\\pm$ 0.016 & 0.1096 $\\pm$ 0.331 \\\\\n",
      "Deepsets (median) & 0.0237 $\\pm$ 0.018 & 0.1235 $\\pm$ 0.324 \\\\\n",
      "Deepsets (max) & 0.0447 $\\pm$ 0.037 & 0.2191 $\\pm$ 0.575 \\\\\n",
      "SetTransformers & \\textbf{0.0202 $\\pm$ 0.016} & 0.1114 $\\pm$ 0.374 \\\\\n",
      "HistNetQ & \\ddag{0.0204 $\\pm$ 0.016} & 0.1069 $\\pm$ 0.312 \\\\\n",
      "\\bottomrule\n",
      "\\end{tabular}\n",
      "\n"
     ]
    }
   ],
   "source": [
    "experiment_names = [\"CC_T1\",\"PCC_T1\",\"ACC_T1\",\"PACC_T1\",\"HDy_T1\",\"Quanet_T1\",\"SLD-BCTS_T1\",\"SLD_T1\",\"deepsets_avg_T1\",\"deepsets_median_T1\",\"deepsets_max_T1\",\"settransformers_T1\",\"histnet_hard_T1\"]\n",
    "row_names = [\"CC\",\"PCC\",\"ACC\",\"PACC\",\"HDy\",\"Quanet\",\"EMQ-BCTS\",\"EMQ-NoCal\",\"Deepsets (avg)\",\"Deepsets (median)\",\"Deepsets (max)\",\"SetTransformers\",\"HistNetQ\"]\n",
    "t1_table,_ = show_results_table(experiment_names=experiment_names, base_path='', include_std=True,error_measures=['AE','RAE'], row_names=row_names)\n",
    "print(t1_table)\n",
    "with open(os.path.join(export_dir,'tables/t1_table.tex'),'w') as f:\n",
    "    f.write(t1_table)"
   ]
  },
  {
   "cell_type": "markdown",
   "metadata": {},
   "source": [
    "## Results T2"
   ]
  },
  {
   "cell_type": "code",
   "execution_count": 7,
   "metadata": {},
   "outputs": [
    {
     "name": "stdout",
     "output_type": "stream",
     "text": [
      "\\begin{tabular}{r|rr}\n",
      "\\toprule\n",
      " & AE & RAE \\\\\n",
      "\\midrule\n",
      "CC & 0.0166 $\\pm$ 0.003 & 2.3096 $\\pm$ 1.383 \\\\\n",
      "PCC & 0.0193 $\\pm$ 0.003 & 2.6751 $\\pm$ 1.605 \\\\\n",
      "ACC & 0.0164 $\\pm$ 0.004 & 1.3479 $\\pm$ 1.161 \\\\\n",
      "PACC & 0.0155 $\\pm$ 0.004 & 1.1942 $\\pm$ 1.135 \\\\\n",
      "EMQ-BCTS & 0.0138 $\\pm$ 0.004 & 1.1500 $\\pm$ 0.978 \\\\\n",
      "EMQ & \\textbf{0.0134 $\\pm$ 0.003} & 1.1616 $\\pm$ 0.991 \\\\\n",
      "Deepsets (avg) & 0.0408 $\\pm$ 0.010 & 1.6982 $\\pm$ 2.263 \\\\\n",
      "Deepsets (med) & 0.0209 $\\pm$ 0.006 & 1.2353 $\\pm$ 0.891 \\\\\n",
      "Deepsets (max) & 0.0219 $\\pm$ 0.004 & 2.4217 $\\pm$ 1.879 \\\\\n",
      "SetTransformers & 0.0384 $\\pm$ 0.013 & 3.6275 $\\pm$ 4.218 \\\\\n",
      "HistNetQ & 0.0181 $\\pm$ 0.006 & \\textbf{0.9508 $\\pm$ 0.576} \\\\\n",
      "\\bottomrule\n",
      "\\end{tabular}\n",
      "\n"
     ]
    }
   ],
   "source": [
    "experiment_names = [\"CC_T2\",\"PCC_T2\",\"ACC_T2\",\"PACC_T2\",\"SLD-BCTS_T2\",\"SLD_T2\",\"deepsets_avg_T2\",\"deepsets_median_T2\",\"deepsets_max_T2\",\"settransformers_T2\",\"histnet_hard_T2_64bins\"]\n",
    "row_names = [\"CC\",\"PCC\",\"ACC\",\"PACC\",\"EMQ-BCTS\",\"EMQ\",\"Deepsets (avg)\",\"Deepsets (med)\",\"Deepsets (max)\",\"SetTransformers\",\"HistNetQ\"]\n",
    "t2_table,_=show_results_table(experiment_names,include_std=True,row_names=row_names)\n",
    "print(t2_table)\n",
    "with open(os.path.join(export_dir,'tables/t2_table.tex'),'w') as f:\n",
    "    f.write(t2_table)"
   ]
  },
  {
   "cell_type": "markdown",
   "metadata": {},
   "source": [
    "## Análisis por número de bins"
   ]
  },
  {
   "cell_type": "code",
   "execution_count": 8,
   "metadata": {},
   "outputs": [
    {
     "name": "stdout",
     "output_type": "stream",
     "text": [
      "\\begin{tabular}{r|rr}\n",
      "\\toprule\n",
      " & AE & RAE \\\\\n",
      "\\midrule\n",
      "HistNet (8 bins) & 0.0297 $\\pm$ 0.008 & 1.2878 $\\pm$ 1.000 \\\\\n",
      "HistNet (16 bins) & 0.0212 $\\pm$ 0.007 & 1.0572 $\\pm$ 0.738 \\\\\n",
      "HistNet (32 bins) & 0.0121 $\\pm$ 0.005 & 0.7851 $\\pm$ 0.520 \\\\\n",
      "HistNet (32 bins)\\_64bins & \\textbf{0.0107 $\\pm$ 0.004} & \\textbf{0.7574 $\\pm$ 0.489} \\\\\n",
      "\\bottomrule\n",
      "\\end{tabular}\n",
      "\n"
     ]
    }
   ],
   "source": [
    "import numpy as np\n",
    "experiment_names = [\"histnet_hard_T1B_8bins\",\"histnet_hard_T1B_16bins\",\"histnet_hard_T1B\",\"histnet_hard_T1B_64bins\"]\n",
    "row_names = [\"HistNet (8 bins)\",\"HistNet (16 bins)\",\"HistNet (32 bins)\",\"HistNet (64 bins)\"]\n",
    "bins_comp, results_error=show_results_table(experiment_names, row_names = row_names, include_std=True)\n",
    "print(bins_comp)\n",
    "with open(os.path.join(export_dir,'tables/bins_comp.tex'),'w') as f:\n",
    "    f.write(bins_comp)"
   ]
  },
  {
   "attachments": {},
   "cell_type": "markdown",
   "metadata": {},
   "source": [
    "## Resultados FASHIONMNIST"
   ]
  },
  {
   "cell_type": "code",
   "execution_count": 9,
   "metadata": {},
   "outputs": [
    {
     "name": "stdout",
     "output_type": "stream",
     "text": [
      "\\begin{tabular}{r|rr}\n",
      "\\toprule\n",
      " & AE & RAE \\\\\n",
      "\\midrule\n",
      "settransformers\\_ae\\_fashionmnist & 0.0104 $\\pm$ 0.003 & 0.3716 $\\pm$ 0.447 \\\\\n",
      "settransformers\\_rae\\_fashionmnist & 0.1295 $\\pm$ 0.023 & 2.2017 $\\pm$ 1.190 \\\\\n",
      "deepsets\\_avg\\_ae\\_fashionmnist & 0.0083 $\\pm$ 0.003 & 0.2970 $\\pm$ 0.341 \\\\\n",
      "deepsets\\_avg\\_rae\\_fashionmnist & 0.0249 $\\pm$ 0.014 & 0.3283 $\\pm$ 0.233 \\\\\n",
      "deepsets\\_median\\_ae\\_fashionmnist & 0.0094 $\\pm$ 0.003 & 0.3550 $\\pm$ 0.422 \\\\\n",
      "deepsets\\_median\\_rae\\_fashionmnist & 0.0655 $\\pm$ 0.018 & 0.7195 $\\pm$ 0.586 \\\\\n",
      "deepsets\\_max\\_ae\\_fashionmnist & 0.0219 $\\pm$ 0.007 & 0.4147 $\\pm$ 0.349 \\\\\n",
      "deepsets\\_max\\_rae\\_fashionmnist & 0.0250 $\\pm$ 0.011 & 0.3520 $\\pm$ 0.323 \\\\\n",
      "histnet\\_hard\\_ae\\_fashionmnist & \\textbf{0.0060 $\\pm$ 0.002} & 0.2327 $\\pm$ 0.289 \\\\\n",
      "histnet\\_hard\\_rae\\_fashionmnist & 0.0069 $\\pm$ 0.002 & \\dag{0.1592 $\\pm$ 0.171} \\\\\n",
      "CC\\_fashionmnist & 0.0163 $\\pm$ 0.007 & 0.5828 $\\pm$ 0.723 \\\\\n",
      "PCC\\_fashionmnist & 0.0204 $\\pm$ 0.008 & 0.7817 $\\pm$ 0.974 \\\\\n",
      "AC\\_fashionmnist & 0.0082 $\\pm$ 0.003 & 0.2226 $\\pm$ 0.238 \\\\\n",
      "PAC\\_fashionmnist & 0.0067 $\\pm$ 0.002 & 0.1831 $\\pm$ 0.193 \\\\\n",
      "HDy\\_fashionmnist & 0.0072 $\\pm$ 0.002 & 0.1670 $\\pm$ 0.157 \\\\\n",
      "EM\\_fashionmnist & 0.0132 $\\pm$ 0.005 & 0.2549 $\\pm$ 0.222 \\\\\n",
      "EM-BCTS\\_fashionmnist & 0.0065 $\\pm$ 0.002 & \\textbf{0.1510 $\\pm$ 0.152} \\\\\n",
      "\\bottomrule\n",
      "\\end{tabular}\n",
      "\n"
     ]
    }
   ],
   "source": [
    "experiment_names = [\"settransformers_ae_fashionmnist\",\"settransformers_rae_fashionmnist\",\n",
    "\"deepsets_avg_ae_fashionmnist\",\"deepsets_avg_ae_fashionmnist\",\"deepsets_avg_rae_fashionmnist\",\n",
    "\"deepsets_median_ae_fashionmnist\",\"deepsets_median_rae_fashionmnist\",\"deepsets_max_ae_fashionmnist\",\n",
    "\"deepsets_max_rae_fashionmnist\",\n",
    "\"histnet_hard_ae_fashionmnist\",\"histnet_hard_rae_fashionmnist\",\n",
    "\"CC_fashionmnist\",\"PCC_fashionmnist\",\"AC_fashionmnist\",\"PAC_fashionmnist\",\"HDy_fashionmnist\",\n",
    "\"EM_fashionmnist\",\"EM-BCTS_fashionmnist\"]\n",
    "#,\n",
    "\n",
    "fashionmnist_results,_=show_results_table(experiment_names,base_path=\"fashionmnist\",include_std=True,error_measures=['AE','RAE'])\n",
    "print(fashionmnist_results)\n",
    "with open(os.path.join(export_dir,'tables/fashionmnist.tex'),'w') as f:\n",
    "    f.write(fashionmnist_results)"
   ]
  },
  {
   "cell_type": "markdown",
   "metadata": {},
   "source": [
    "## Comparación con baselines la competición LEQUA"
   ]
  },
  {
   "cell_type": "code",
   "execution_count": 10,
   "metadata": {},
   "outputs": [],
   "source": [
    "from dlquantification.utils.lossfunc import MRAE\n",
    "import torch\n",
    "\n",
    "def compute_errors(baselines,baseline_path,test_prevalences,dataset,loss_mrae):\n",
    "    test_prevalences = pd.read_csv(test_prevalences)\n",
    "    for baseline in baselines:\n",
    "        export_path = os.path.join(\"results/\", baseline + \"_\"+dataset+\"_errors.txt\")\n",
    "        if not os.path.exists(export_path):\n",
    "            errors = pd.DataFrame(columns=('AE','RAE'),index=range(5000))\n",
    "            results = pd.read_csv(os.path.join(baseline_path,baseline)+'.csv')\n",
    "            for i in range(len(results)):\n",
    "                errors.iloc[i]['RAE']=loss_mrae(torch.FloatTensor(test_prevalences.iloc[i,1:].to_numpy()), torch.FloatTensor(results.iloc[i,1:].to_numpy())).numpy()\n",
    "                errors.iloc[i]['AE']=torch.nn.functional.l1_loss(torch.FloatTensor(test_prevalences.iloc[i,1:].to_numpy()), torch.FloatTensor(results.iloc[i,1:].to_numpy())).numpy()\n",
    "            errors.to_csv(export_path, index_label=\"id\")\n",
    "\n",
    "\n",
    "baselines=['CC','ACC','HDy','PACC','PCC','QuaNet','SLD']\n",
    "#For this experiments we need to compute the errors as we only have the predictions\n",
    "\n",
    "loss_mrae = MRAE(eps=1.0 / (2 * 250), n_classes=2).MRAE\n",
    "baseline_path_T1A = os.path.join(path,'codalab/T1A')\n",
    "test_prevalences = '/media/nas/pgonzalez/histnetq/experiments/paper/lequa/T1A/public/test_prevalences.txt'\n",
    "compute_errors(baselines,baseline_path_T1A,test_prevalences,'T1A',loss_mrae)\n",
    "baselines=['CC','ACC','PACC','PCC','SLD']\n",
    "loss_mrae = MRAE(eps=1.0 / (2 * 1000), n_classes=28).MRAE\n",
    "baseline_path_T1B = os.path.join(path,'codalab/T1B')\n",
    "test_prevalences = '/media/nas/pgonzalez/histnetq/experiments/paper/lequa/T1B/public/test_prevalences.txt'\n",
    "compute_errors(baselines,baseline_path_T1B,test_prevalences,'T1B',loss_mrae)\n",
    "baselines=['CC','ACC','PACC','PCC','HDy','Quanet','SLD','SLD-BCTS']\n",
    "loss_mrae = MRAE(eps=1.0 / (2 * 250), n_classes=2).MRAE\n",
    "baseline_path_T1 = os.path.join(path,'codalab/T1')\n",
    "test_prevalences = '/media/nas/pgonzalez/histnetq/experiments/paper/lequa/T1/public/test_prevalences.txt'\n",
    "compute_errors(baselines,baseline_path_T1,test_prevalences,'T1',loss_mrae)\n",
    "baselines=['CC','ACC','PACC','PCC','SLD','SLD-BCTS']\n",
    "loss_mrae = MRAE(eps=1.0 / (2 * 1000), n_classes=28).MRAE\n",
    "baseline_path_T2 = os.path.join(path,'codalab/T2')\n",
    "test_prevalences = '/media/nas/pgonzalez/histnetq/experiments/paper/lequa/T2/public/test_prevalences.txt'\n",
    "compute_errors(baselines,baseline_path_T2,test_prevalences,'T2',loss_mrae)"
   ]
  }
 ],
 "metadata": {
  "kernelspec": {
   "display_name": "histnet",
   "language": "python",
   "name": "python3"
  },
  "language_info": {
   "codemirror_mode": {
    "name": "ipython",
    "version": 3
   },
   "file_extension": ".py",
   "mimetype": "text/x-python",
   "name": "python",
   "nbconvert_exporter": "python",
   "pygments_lexer": "ipython3",
   "version": "3.12.4"
  },
  "vscode": {
   "interpreter": {
    "hash": "4fba9110b1a4ec95baa236356b4366c963be065d6fde289654bed570a6fc51de"
   }
  }
 },
 "nbformat": 4,
 "nbformat_minor": 2
}
